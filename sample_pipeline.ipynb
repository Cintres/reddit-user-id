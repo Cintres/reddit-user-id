{
 "cells": [
  {
   "cell_type": "code",
   "execution_count": 1,
   "metadata": {},
   "outputs": [],
   "source": [
    "import pyspark as ps\n",
    "\n",
    "spark = (\n",
    "        ps.sql.SparkSession.builder \n",
    "        .master(\"local[4]\") \n",
    "        .appName(\"lecture\") \n",
    "        .getOrCreate()\n",
    "        )\n",
    "\n",
    "sc = spark.sparkContext"
   ]
  },
  {
   "cell_type": "code",
   "execution_count": null,
   "metadata": {},
   "outputs": [],
   "source": []
  },
  {
   "cell_type": "code",
   "execution_count": null,
   "metadata": {
    "scrolled": true
   },
   "outputs": [],
   "source": []
  },
  {
   "cell_type": "code",
   "execution_count": 2,
   "metadata": {},
   "outputs": [],
   "source": [
    "df = spark.read.json(\"sample.json\")"
   ]
  },
  {
   "cell_type": "code",
   "execution_count": 3,
   "metadata": {
    "scrolled": true
   },
   "outputs": [
    {
     "name": "stdout",
     "output_type": "stream",
     "text": [
      "+---------------+--------------+----------------------+-----------------+--------------------+--------+----------------+-----------+-------------+------+------+-------+------------+---------+----------+--------------------+------------+-----+--------+-----------------+------------+\n",
      "|         author|author_cakeday|author_flair_css_class|author_flair_text|                body|can_gild|controversiality|created_utc|distinguished|edited|gilded|     id|is_submitter|  link_id| parent_id|           permalink|retrieved_on|score|stickied|        subreddit|subreddit_id|\n",
      "+---------------+--------------+----------------------+-----------------+--------------------+--------+----------------+-----------+-------------+------+------+-------+------------+---------+----------+--------------------+------------+-----+--------+-----------------+------------+\n",
      "|       Dethcola|          null|                      |       Clairemont|            A quarry|    true|               0| 1506816000|         null| false|     0|dnqik14|       false|t3_73ieyz| t3_73ieyz|/r/sandiego/comme...|  1509189606|    3|   false|         sandiego|    t5_2qq2q|\n",
      "|     PennyBotV2|          null|         flair2-penny1|          The Bot|[Salutations! I'm...|    true|               0| 1506816000|         null| false|     0|dnqik15|       false|t3_73g740|t1_dnqiiv7|/r/RWBY/comments/...|  1509189606|    3|   false|             RWBY|    t5_2vhg0|\n",
      "|    Sir_Firebum|          null|             HOU-wagon| Astros Bandwagon|I got into baseba...|    true|               0| 1506816000|         null| false|     0|dnqik16|       false|t3_73hlwn|t1_dnqc3lu|/r/baseball/comme...|  1509189606|    2|   false|         baseball|    t5_2qm7u|\n",
      "|      deanzynut|          null|           woodcutting|     99 wcing btw|        FUCKING TORY|    true|               0| 1506816000|         null| false|     0|dnqik17|        true|t3_73gw9b|t1_dnqdo99|/r/2007scape/comm...|  1509189606|   18|   false|        2007scape|    t5_2wbww|\n",
      "|OfullOstomacheO|          null|                  null|             null|I see a water dra...|    true|               0| 1506816000|         null| false|     0|dnqik18|       false|t3_73i6z3| t3_73i6z3|/r/mildlyinterest...|  1509189606|    1|   false|mildlyinteresting|    t5_2ti4h|\n",
      "+---------------+--------------+----------------------+-----------------+--------------------+--------+----------------+-----------+-------------+------+------+-------+------------+---------+----------+--------------------+------------+-----+--------+-----------------+------------+\n",
      "only showing top 5 rows\n",
      "\n"
     ]
    }
   ],
   "source": [
    "df.show(5)"
   ]
  },
  {
   "cell_type": "code",
   "execution_count": 4,
   "metadata": {},
   "outputs": [
    {
     "name": "stdout",
     "output_type": "stream",
     "text": [
      "root\n",
      " |-- author: string (nullable = true)\n",
      " |-- author_cakeday: boolean (nullable = true)\n",
      " |-- author_flair_css_class: string (nullable = true)\n",
      " |-- author_flair_text: string (nullable = true)\n",
      " |-- body: string (nullable = true)\n",
      " |-- can_gild: boolean (nullable = true)\n",
      " |-- controversiality: long (nullable = true)\n",
      " |-- created_utc: long (nullable = true)\n",
      " |-- distinguished: string (nullable = true)\n",
      " |-- edited: string (nullable = true)\n",
      " |-- gilded: long (nullable = true)\n",
      " |-- id: string (nullable = true)\n",
      " |-- is_submitter: boolean (nullable = true)\n",
      " |-- link_id: string (nullable = true)\n",
      " |-- parent_id: string (nullable = true)\n",
      " |-- permalink: string (nullable = true)\n",
      " |-- retrieved_on: long (nullable = true)\n",
      " |-- score: long (nullable = true)\n",
      " |-- stickied: boolean (nullable = true)\n",
      " |-- subreddit: string (nullable = true)\n",
      " |-- subreddit_id: string (nullable = true)\n",
      "\n"
     ]
    }
   ],
   "source": [
    "df.printSchema()"
   ]
  },
  {
   "cell_type": "code",
   "execution_count": 5,
   "metadata": {},
   "outputs": [
    {
     "name": "stdout",
     "output_type": "stream",
     "text": [
      "line count: 10000\n"
     ]
    }
   ],
   "source": [
    "print(\"line count: {}\".format(df.count()))"
   ]
  },
  {
   "cell_type": "code",
   "execution_count": 6,
   "metadata": {},
   "outputs": [],
   "source": [
    "df1 = df[['author','body','subreddit']]"
   ]
  },
  {
   "cell_type": "code",
   "execution_count": 7,
   "metadata": {},
   "outputs": [],
   "source": [
    "from pyspark.sql import functions as F"
   ]
  },
  {
   "cell_type": "code",
   "execution_count": 8,
   "metadata": {},
   "outputs": [],
   "source": [
    "df_users = df1.groupby('author').agg(F.count('body')).orderBy('count(body)', ascending=False)"
   ]
  },
  {
   "cell_type": "code",
   "execution_count": 9,
   "metadata": {},
   "outputs": [
    {
     "name": "stdout",
     "output_type": "stream",
     "text": [
      "+------------------+-----------+\n",
      "|            author|count(body)|\n",
      "+------------------+-----------+\n",
      "|         [deleted]|        779|\n",
      "|ithinkisaidtoomuch|        258|\n",
      "|   Concise_AMA_Bot|        147|\n",
      "|         grrrrreat|        136|\n",
      "|     AutoModerator|         92|\n",
      "+------------------+-----------+\n",
      "only showing top 5 rows\n",
      "\n"
     ]
    }
   ],
   "source": [
    "df_users.show(5)"
   ]
  },
  {
   "cell_type": "code",
   "execution_count": 10,
   "metadata": {},
   "outputs": [
    {
     "name": "stdout",
     "output_type": "stream",
     "text": [
      "+--------------------+\n",
      "|                body|\n",
      "+--------------------+\n",
      "|            A quarry|\n",
      "|[Salutations! I'm...|\n",
      "|I got into baseba...|\n",
      "|        FUCKING TORY|\n",
      "|I see a water dra...|\n",
      "|Wait. The Michiga...|\n",
      "|              ye fam|\n",
      "|143417804| &gt; U...|\n",
      "|That is some chic...|\n",
      "|Does he even know...|\n",
      "|            Tequila.|\n",
      "|your heart beats ...|\n",
      "|&gt; Subscribe: /...|\n",
      "|you're really ign...|\n",
      "|lets see how deep...|\n",
      "|You are arguing t...|\n",
      "|I'm thinking abou...|\n",
      "|[Original post](h...|\n",
      "|I think that's a ...|\n",
      "|Harp absolutelly....|\n",
      "+--------------------+\n",
      "only showing top 20 rows\n",
      "\n"
     ]
    }
   ],
   "source": [
    "df[['body']].show()"
   ]
  },
  {
   "cell_type": "code",
   "execution_count": 11,
   "metadata": {},
   "outputs": [],
   "source": [
    "comments = df.groupBy(\"author\").agg(F.collect_list(\"body\"))"
   ]
  },
  {
   "cell_type": "code",
   "execution_count": 12,
   "metadata": {},
   "outputs": [
    {
     "name": "stdout",
     "output_type": "stream",
     "text": [
      "+-----------+---------------------------------------------------------------------------------------------------------------------------------------------------------------------------------------------------------------------------------------------------------------------------------------------------------------------------------------------------------------------------+\n",
      "|author     |collect_list(body)                                                                                                                                                                                                                                                                                                                                                         |\n",
      "+-----------+---------------------------------------------------------------------------------------------------------------------------------------------------------------------------------------------------------------------------------------------------------------------------------------------------------------------------------------------------------------------------+\n",
      "|CanyonWrn  |[Still waiting for a group large enough to do any of the legendary raids. ]                                                                                                                                                                                                                                                                                                |\n",
      "|Cogeno     |[I can't say as though I would be particularly interested in going to my ex's wedding invited. , and then drinks the milk before eating the cereal. , Max McCormick is the kind of guy who sees you approaching and holds the door open even though your too far away, forcing you to start the awkward walk-jog.\n",
      "]                                                        |\n",
      "|Daverost   |[I used to have a friend like Ross several years ago. You get used to it. You start developing a sense of when they're going to pull shit and then you both laugh about it.]                                                                                                                                                                                               |\n",
      "|GordonByron|[Just the fact that you can convict 2 suspects of the same crime but with 2 wildly different scenarios is disgusting, BD only repeated what the cops drove him to repeat]                                                                                                                                                                                                  |\n",
      "|Intrixina  |[Your reality TV garbage is pure cultural marxist bullshit as well. A couple dozen people fighting over someone who isn't even a prize? Way to cheapen and destroy what relationships are supposed to be about. Pushing degeneracy is what the left is all about - and cheap meaningless relationships are part of destroying marriage and family as well., Great analogy!]|\n",
      "+-----------+---------------------------------------------------------------------------------------------------------------------------------------------------------------------------------------------------------------------------------------------------------------------------------------------------------------------------------------------------------------------------+\n",
      "only showing top 5 rows\n",
      "\n"
     ]
    }
   ],
   "source": [
    "comments.show(5, truncate = False)"
   ]
  },
  {
   "cell_type": "code",
   "execution_count": 13,
   "metadata": {},
   "outputs": [],
   "source": [
    "from pyspark.sql.functions import udf\n",
    "from pyspark.sql.types import StringType, FloatType, IntegerType"
   ]
  },
  {
   "cell_type": "code",
   "execution_count": 14,
   "metadata": {},
   "outputs": [],
   "source": [
    "def join_comments(comments):\n",
    "    return ' '.join(comments)\n",
    "    "
   ]
  },
  {
   "cell_type": "code",
   "execution_count": 15,
   "metadata": {},
   "outputs": [],
   "source": [
    "join_comments_udf = udf(lambda x: ' '.join(x), StringType())\n",
    "df_join_comments = comments.withColumn('corpus', join_comments_udf(comments['collect_list(body)']))"
   ]
  },
  {
   "cell_type": "code",
   "execution_count": 16,
   "metadata": {},
   "outputs": [
    {
     "name": "stdout",
     "output_type": "stream",
     "text": [
      "+-----------+---------------------------------------------------------------------------------------------------------------------------------------------------------------------------------------------------------------------------------------------------------------------------------------------------------------------------------------------------------------------------+------------------------------------------------------------------------------------------------------------------------------------------------------------------------------------------------------------------------------------------------------------------------------------------------------------------------------------------------------------------------+\n",
      "|author     |collect_list(body)                                                                                                                                                                                                                                                                                                                                                         |corpus                                                                                                                                                                                                                                                                                                                                                                  |\n",
      "+-----------+---------------------------------------------------------------------------------------------------------------------------------------------------------------------------------------------------------------------------------------------------------------------------------------------------------------------------------------------------------------------------+------------------------------------------------------------------------------------------------------------------------------------------------------------------------------------------------------------------------------------------------------------------------------------------------------------------------------------------------------------------------+\n",
      "|CanyonWrn  |[Still waiting for a group large enough to do any of the legendary raids. ]                                                                                                                                                                                                                                                                                                |Still waiting for a group large enough to do any of the legendary raids.                                                                                                                                                                                                                                                                                                |\n",
      "|Cogeno     |[I can't say as though I would be particularly interested in going to my ex's wedding invited. , and then drinks the milk before eating the cereal. , Max McCormick is the kind of guy who sees you approaching and holds the door open even though your too far away, forcing you to start the awkward walk-jog.\n",
      "]                                                        |I can't say as though I would be particularly interested in going to my ex's wedding invited.  and then drinks the milk before eating the cereal.  Max McCormick is the kind of guy who sees you approaching and holds the door open even though your too far away, forcing you to start the awkward walk-jog.\n",
      "                                                         |\n",
      "|Daverost   |[I used to have a friend like Ross several years ago. You get used to it. You start developing a sense of when they're going to pull shit and then you both laugh about it.]                                                                                                                                                                                               |I used to have a friend like Ross several years ago. You get used to it. You start developing a sense of when they're going to pull shit and then you both laugh about it.                                                                                                                                                                                              |\n",
      "|GordonByron|[Just the fact that you can convict 2 suspects of the same crime but with 2 wildly different scenarios is disgusting, BD only repeated what the cops drove him to repeat]                                                                                                                                                                                                  |Just the fact that you can convict 2 suspects of the same crime but with 2 wildly different scenarios is disgusting BD only repeated what the cops drove him to repeat                                                                                                                                                                                                  |\n",
      "|Intrixina  |[Your reality TV garbage is pure cultural marxist bullshit as well. A couple dozen people fighting over someone who isn't even a prize? Way to cheapen and destroy what relationships are supposed to be about. Pushing degeneracy is what the left is all about - and cheap meaningless relationships are part of destroying marriage and family as well., Great analogy!]|Your reality TV garbage is pure cultural marxist bullshit as well. A couple dozen people fighting over someone who isn't even a prize? Way to cheapen and destroy what relationships are supposed to be about. Pushing degeneracy is what the left is all about - and cheap meaningless relationships are part of destroying marriage and family as well. Great analogy!|\n",
      "+-----------+---------------------------------------------------------------------------------------------------------------------------------------------------------------------------------------------------------------------------------------------------------------------------------------------------------------------------------------------------------------------------+------------------------------------------------------------------------------------------------------------------------------------------------------------------------------------------------------------------------------------------------------------------------------------------------------------------------------------------------------------------------+\n",
      "only showing top 5 rows\n",
      "\n"
     ]
    }
   ],
   "source": [
    "df_join_comments.show(5, truncate = False)"
   ]
  },
  {
   "cell_type": "code",
   "execution_count": 17,
   "metadata": {},
   "outputs": [],
   "source": [
    "from pyspark.ml import Pipeline\n",
    "from pyspark.ml.classification import LogisticRegression\n",
    "from pyspark.ml.feature import CountVectorizer, Tokenizer"
   ]
  },
  {
   "cell_type": "code",
   "execution_count": 18,
   "metadata": {},
   "outputs": [],
   "source": [
    "tokenizer = Tokenizer(inputCol=\"corpus\", outputCol=\"words\")\n",
    "tokens = tokenizer.transform(df_join_comments)"
   ]
  },
  {
   "cell_type": "code",
   "execution_count": 19,
   "metadata": {},
   "outputs": [
    {
     "name": "stdout",
     "output_type": "stream",
     "text": [
      "+-----------+--------------------+--------------------+--------------------+\n",
      "|     author|  collect_list(body)|              corpus|               words|\n",
      "+-----------+--------------------+--------------------+--------------------+\n",
      "|  CanyonWrn|[Still waiting fo...|Still waiting for...|[still, waiting, ...|\n",
      "|     Cogeno|[I can't say as t...|I can't say as th...|[i, can't, say, a...|\n",
      "|   Daverost|[I used to have a...|I used to have a ...|[i, used, to, hav...|\n",
      "|GordonByron|[Just the fact th...|Just the fact tha...|[just, the, fact,...|\n",
      "|  Intrixina|[Your reality TV ...|Your reality TV g...|[your, reality, t...|\n",
      "+-----------+--------------------+--------------------+--------------------+\n",
      "only showing top 5 rows\n",
      "\n"
     ]
    }
   ],
   "source": [
    "tokens.show(5)"
   ]
  },
  {
   "cell_type": "code",
   "execution_count": 20,
   "metadata": {},
   "outputs": [],
   "source": [
    "from nltk.stem import WordNetLemmatizer"
   ]
  },
  {
   "cell_type": "code",
   "execution_count": 22,
   "metadata": {},
   "outputs": [],
   "source": [
    "from pyspark.ml.feature import StopWordsRemover"
   ]
  },
  {
   "cell_type": "code",
   "execution_count": 23,
   "metadata": {},
   "outputs": [],
   "source": [
    "stopwords = StopWordsRemover(inputCol=\"words\", outputCol=\"true_words\")\n",
    "words = stopwords.transform(tokens)"
   ]
  },
  {
   "cell_type": "code",
   "execution_count": 25,
   "metadata": {},
   "outputs": [
    {
     "name": "stdout",
     "output_type": "stream",
     "text": [
      "+-----------+---------------------------------------------------------------------------------------------------------------------------------------------------------------------------------------------------------------------------------------------------------------------------------------------------------------------------------------------------------------------------+------------------------------------------------------------------------------------------------------------------------------------------------------------------------------------------------------------------------------------------------------------------------------------------------------------------------------------------------------------------------+-------------------------------------------------------------------------------------------------------------------------------------------------------------------------------------------------------------------------------------------------------------------------------------------------------------------------------------------------------------------------------------------------------------------------------------+-------------------------------------------------------------------------------------------------------------------------------------------------------------------------------------------------------------------------------------------------------------------------------------------------------------+\n",
      "|author     |collect_list(body)                                                                                                                                                                                                                                                                                                                                                         |corpus                                                                                                                                                                                                                                                                                                                                                                  |words                                                                                                                                                                                                                                                                                                                                                                                                                                |true_words                                                                                                                                                                                                                                                                                                   |\n",
      "+-----------+---------------------------------------------------------------------------------------------------------------------------------------------------------------------------------------------------------------------------------------------------------------------------------------------------------------------------------------------------------------------------+------------------------------------------------------------------------------------------------------------------------------------------------------------------------------------------------------------------------------------------------------------------------------------------------------------------------------------------------------------------------+-------------------------------------------------------------------------------------------------------------------------------------------------------------------------------------------------------------------------------------------------------------------------------------------------------------------------------------------------------------------------------------------------------------------------------------+-------------------------------------------------------------------------------------------------------------------------------------------------------------------------------------------------------------------------------------------------------------------------------------------------------------+\n",
      "|CanyonWrn  |[Still waiting for a group large enough to do any of the legendary raids. ]                                                                                                                                                                                                                                                                                                |Still waiting for a group large enough to do any of the legendary raids.                                                                                                                                                                                                                                                                                                |[still, waiting, for, a, group, large, enough, to, do, any, of, the, legendary, raids.]                                                                                                                                                                                                                                                                                                                                              |[still, waiting, group, large, enough, legendary, raids.]                                                                                                                                                                                                                                                    |\n",
      "|Cogeno     |[I can't say as though I would be particularly interested in going to my ex's wedding invited. , and then drinks the milk before eating the cereal. , Max McCormick is the kind of guy who sees you approaching and holds the door open even though your too far away, forcing you to start the awkward walk-jog.\n",
      "]                                                        |I can't say as though I would be particularly interested in going to my ex's wedding invited.  and then drinks the milk before eating the cereal.  Max McCormick is the kind of guy who sees you approaching and holds the door open even though your too far away, forcing you to start the awkward walk-jog.\n",
      "                                                         |[i, can't, say, as, though, i, would, be, particularly, interested, in, going, to, my, ex's, wedding, invited., , and, then, drinks, the, milk, before, eating, the, cereal., , max, mccormick, is, the, kind, of, guy, who, sees, you, approaching, and, holds, the, door, open, even, though, your, too, far, away,, forcing, you, to, start, the, awkward, walk-jog.]                                                             |[say, though, particularly, interested, going, ex's, wedding, invited., , drinks, milk, eating, cereal., , max, mccormick, kind, guy, sees, approaching, holds, door, open, even, though, far, away,, forcing, start, awkward, walk-jog.]                                                                    |\n",
      "|Daverost   |[I used to have a friend like Ross several years ago. You get used to it. You start developing a sense of when they're going to pull shit and then you both laugh about it.]                                                                                                                                                                                               |I used to have a friend like Ross several years ago. You get used to it. You start developing a sense of when they're going to pull shit and then you both laugh about it.                                                                                                                                                                                              |[i, used, to, have, a, friend, like, ross, several, years, ago., you, get, used, to, it., you, start, developing, a, sense, of, when, they're, going, to, pull, shit, and, then, you, both, laugh, about, it.]                                                                                                                                                                                                                       |[used, friend, like, ross, several, years, ago., get, used, it., start, developing, sense, going, pull, shit, laugh, it.]                                                                                                                                                                                    |\n",
      "|GordonByron|[Just the fact that you can convict 2 suspects of the same crime but with 2 wildly different scenarios is disgusting, BD only repeated what the cops drove him to repeat]                                                                                                                                                                                                  |Just the fact that you can convict 2 suspects of the same crime but with 2 wildly different scenarios is disgusting BD only repeated what the cops drove him to repeat                                                                                                                                                                                                  |[just, the, fact, that, you, can, convict, 2, suspects, of, the, same, crime, but, with, 2, wildly, different, scenarios, is, disgusting, bd, only, repeated, what, the, cops, drove, him, to, repeat]                                                                                                                                                                                                                               |[fact, convict, 2, suspects, crime, 2, wildly, different, scenarios, disgusting, bd, repeated, cops, drove, repeat]                                                                                                                                                                                          |\n",
      "|Intrixina  |[Your reality TV garbage is pure cultural marxist bullshit as well. A couple dozen people fighting over someone who isn't even a prize? Way to cheapen and destroy what relationships are supposed to be about. Pushing degeneracy is what the left is all about - and cheap meaningless relationships are part of destroying marriage and family as well., Great analogy!]|Your reality TV garbage is pure cultural marxist bullshit as well. A couple dozen people fighting over someone who isn't even a prize? Way to cheapen and destroy what relationships are supposed to be about. Pushing degeneracy is what the left is all about - and cheap meaningless relationships are part of destroying marriage and family as well. Great analogy!|[your, reality, tv, garbage, is, pure, cultural, marxist, bullshit, as, well., a, couple, dozen, people, fighting, over, someone, who, isn't, even, a, prize?, way, to, cheapen, and, destroy, what, relationships, are, supposed, to, be, about., pushing, degeneracy, is, what, the, left, is, all, about, -, and, cheap, meaningless, relationships, are, part, of, destroying, marriage, and, family, as, well., great, analogy!]|[reality, tv, garbage, pure, cultural, marxist, bullshit, well., couple, dozen, people, fighting, someone, even, prize?, way, cheapen, destroy, relationships, supposed, about., pushing, degeneracy, left, -, cheap, meaningless, relationships, part, destroying, marriage, family, well., great, analogy!]|\n",
      "+-----------+---------------------------------------------------------------------------------------------------------------------------------------------------------------------------------------------------------------------------------------------------------------------------------------------------------------------------------------------------------------------------+------------------------------------------------------------------------------------------------------------------------------------------------------------------------------------------------------------------------------------------------------------------------------------------------------------------------------------------------------------------------+-------------------------------------------------------------------------------------------------------------------------------------------------------------------------------------------------------------------------------------------------------------------------------------------------------------------------------------------------------------------------------------------------------------------------------------+-------------------------------------------------------------------------------------------------------------------------------------------------------------------------------------------------------------------------------------------------------------------------------------------------------------+\n",
      "only showing top 5 rows\n",
      "\n"
     ]
    }
   ],
   "source": [
    "words.show(5, truncate = False)"
   ]
  },
  {
   "cell_type": "code",
   "execution_count": null,
   "metadata": {},
   "outputs": [],
   "source": []
  },
  {
   "cell_type": "code",
   "execution_count": 2,
   "metadata": {},
   "outputs": [],
   "source": [
    "def lemmatize(corpus):\n",
    "    lem = nltk.WordNetLemmatizer()\n",
    "    return [lem.lemmatize(words) for words in corpus]"
   ]
  },
  {
   "cell_type": "code",
   "execution_count": 3,
   "metadata": {},
   "outputs": [
    {
     "ename": "NameError",
     "evalue": "name 'udf' is not defined",
     "output_type": "error",
     "traceback": [
      "\u001b[0;31m---------------------------------------------------------------------------\u001b[0m",
      "\u001b[0;31mNameError\u001b[0m                                 Traceback (most recent call last)",
      "\u001b[0;32m<ipython-input-3-fd72b6c76ebd>\u001b[0m in \u001b[0;36m<module>\u001b[0;34m()\u001b[0m\n\u001b[0;32m----> 1\u001b[0;31m \u001b[0mlemm_udf\u001b[0m \u001b[0;34m=\u001b[0m \u001b[0mudf\u001b[0m\u001b[0;34m(\u001b[0m\u001b[0mlemmatize\u001b[0m\u001b[0;34m,\u001b[0m \u001b[0mArrayType\u001b[0m\u001b[0;34m(\u001b[0m\u001b[0mStringType\u001b[0m\u001b[0;34m(\u001b[0m\u001b[0;34m)\u001b[0m\u001b[0;34m)\u001b[0m\u001b[0;34m)\u001b[0m\u001b[0;34m\u001b[0m\u001b[0m\n\u001b[0m\u001b[1;32m      2\u001b[0m \u001b[0mdf_lemm\u001b[0m \u001b[0;34m=\u001b[0m \u001b[0mwords\u001b[0m\u001b[0;34m.\u001b[0m\u001b[0mwithColumn\u001b[0m\u001b[0;34m(\u001b[0m\u001b[0;34m'lemmas'\u001b[0m\u001b[0;34m,\u001b[0m \u001b[0mlemm_udf\u001b[0m\u001b[0;34m(\u001b[0m\u001b[0mwords\u001b[0m\u001b[0;34m[\u001b[0m\u001b[0;34m'corpus'\u001b[0m\u001b[0;34m]\u001b[0m\u001b[0;34m)\u001b[0m\u001b[0;34m)\u001b[0m\u001b[0;34m\u001b[0m\u001b[0m\n",
      "\u001b[0;31mNameError\u001b[0m: name 'udf' is not defined"
     ]
    }
   ],
   "source": [
    "lemm_udf = udf(lemmatize, ArrayType(StringType()))\n",
    "df_lemm = words.withColumn('lemmas', lemm_udf(words['corpus']))"
   ]
  },
  {
   "cell_type": "code",
   "execution_count": null,
   "metadata": {},
   "outputs": [],
   "source": []
  }
 ],
 "metadata": {
  "kernelspec": {
   "display_name": "Python 3",
   "language": "python",
   "name": "python3"
  },
  "language_info": {
   "codemirror_mode": {
    "name": "ipython",
    "version": 3
   },
   "file_extension": ".py",
   "mimetype": "text/x-python",
   "name": "python",
   "nbconvert_exporter": "python",
   "pygments_lexer": "ipython3",
   "version": "3.6.4"
  }
 },
 "nbformat": 4,
 "nbformat_minor": 2
}
