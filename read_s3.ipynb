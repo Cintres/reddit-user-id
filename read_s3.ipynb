{
 "cells": [
  {
   "cell_type": "code",
   "execution_count": 38,
   "metadata": {},
   "outputs": [],
   "source": [
    "from awscli.customizations.s3.utils import split_s3_bucket_key\n",
    "import boto3\n",
    "client = boto3.client('s3')\n",
    "bucket_name, key_name = split_s3_bucket_key(\n",
    "    's3://john.scoducks/RC_2018-09.json')\n",
    "response = client.get_object(Bucket=bucket_name, Key=key_name)"
   ]
  },
  {
   "cell_type": "code",
   "execution_count": 43,
   "metadata": {},
   "outputs": [
    {
     "name": "stdout",
     "output_type": "stream",
     "text": [
      "b'r\\\\/Bitcoin\",\"subreddit_type\":\"public\"}\\n{\"archived\":false,\"author\":\"Mercadi\",\"author_created_utc\":1462827785,\"author_flair_background_color\":null,\"author_flair_css_class\":null,\"author_flair_richtext\":[],\"author_flair_template_id\":null,\"author_flair_text\":null,\"author_flair_text_color\":null,\"author_flair_type\":\"text\",\"author_fullname\":\"t2_xt91l\",\"body\":\"So that thin crowd was actually Russians? I was joking about it, but the joke turns out to be on me.\",\"can_gild\":true,\"can_mod_post\":false,\"collapsed\":false,\"collapsed_reason\":null,\"controversiality\":0,\"created_utc\":1535760000,\"distinguished\":null,\"edited\":false,\"gilded\":0,\"gildings\":{\"gid_1\":0,\"gid_2\":0,\"gid_3\":0},\"id\":\"e56q3qk\",\"is_submitter\":false,\"link_id\":\"t3_9bwe7w\",\"no_follow\":true,\"parent_id\":\"t3_9bwe7w\",\"permalink\":\"\\\\/r\\\\/worldnews\\\\/comments\\\\/9bwe7w\\\\/lobbyist_says_he_illegally_helped_russian_and\\\\/e56q3qk\\\\/\",\"removal_reason\":null,\"retrieved_on\":1538538086,\"score\":7,\"send_replies\":true,\"stickied\":false,\"subreddit\":\"worldnews\",\"subreddit_id\":\"t5_2qh13\",\"sub'\n"
     ]
    }
   ],
   "source": [
    "for i in response['Body']:\n",
    "    print (i)\n",
    "    break"
   ]
  },
  {
   "cell_type": "code",
   "execution_count": 40,
   "metadata": {},
   "outputs": [
    {
     "data": {
      "text/plain": [
       "dict_keys(['ResponseMetadata', 'AcceptRanges', 'LastModified', 'ContentLength', 'ETag', 'ContentType', 'Metadata', 'Body'])"
      ]
     },
     "execution_count": 40,
     "metadata": {},
     "output_type": "execute_result"
    }
   ],
   "source": [
    "response.keys()"
   ]
  },
  {
   "cell_type": "code",
   "execution_count": 36,
   "metadata": {},
   "outputs": [
    {
     "data": {
      "text/plain": [
       "'binary/octet-stream'"
      ]
     },
     "execution_count": 36,
     "metadata": {},
     "output_type": "execute_result"
    }
   ],
   "source": [
    "response['ContentType']"
   ]
  },
  {
   "cell_type": "code",
   "execution_count": null,
   "metadata": {},
   "outputs": [],
   "source": []
  }
 ],
 "metadata": {
  "kernelspec": {
   "display_name": "Python 3",
   "language": "python",
   "name": "python3"
  },
  "language_info": {
   "codemirror_mode": {
    "name": "ipython",
    "version": 3
   },
   "file_extension": ".py",
   "mimetype": "text/x-python",
   "name": "python",
   "nbconvert_exporter": "python",
   "pygments_lexer": "ipython3",
   "version": "3.6.4"
  }
 },
 "nbformat": 4,
 "nbformat_minor": 2
}
